{
 "cells": [
  {
   "cell_type": "markdown",
   "id": "46890a82-f24f-4953-a5ec-c67d889dab98",
   "metadata": {},
   "source": [
    "# 4. Introduction to Python"
   ]
  },
  {
   "cell_type": "markdown",
   "id": "9d3e493f-c3d1-4f73-bde0-bd9457ce58e0",
   "metadata": {},
   "source": [
    "## 4.1 Variables"
   ]
  },
  {
   "cell_type": "markdown",
   "id": "c9c3ef20-b486-4d77-9dcf-b19610c0849e",
   "metadata": {},
   "source": [
    "### 4.1.1 Defining Variables"
   ]
  },
  {
   "cell_type": "code",
   "execution_count": 1,
   "id": "b47cec2e-77e5-42fa-881e-d38374454c35",
   "metadata": {},
   "outputs": [],
   "source": [
    "my_variable = (5+6) * (20/6.5) / 45."
   ]
  },
  {
   "cell_type": "code",
   "execution_count": 2,
   "id": "2b9ded2c-1721-4430-be65-4da5c23caab3",
   "metadata": {},
   "outputs": [
    {
     "name": "stdout",
     "output_type": "stream",
     "text": [
      "0.7521367521367521\n"
     ]
    }
   ],
   "source": [
    "print(my_variable)"
   ]
  },
  {
   "cell_type": "code",
   "execution_count": 3,
   "id": "74023cc3-1529-48f8-a789-fcd59f4a7c20",
   "metadata": {},
   "outputs": [],
   "source": [
    "new_variable = my_variable**2 - 4.0"
   ]
  },
  {
   "cell_type": "code",
   "execution_count": 4,
   "id": "a12cf831-3e81-4d72-b474-56cae945a840",
   "metadata": {},
   "outputs": [
    {
     "name": "stdout",
     "output_type": "stream",
     "text": [
      "-3.434290306085178\n"
     ]
    }
   ],
   "source": [
    "print(new_variable)"
   ]
  },
  {
   "cell_type": "code",
   "execution_count": 5,
   "id": "f686a20c-6609-4719-8092-e667809dbbe9",
   "metadata": {},
   "outputs": [],
   "source": [
    "new_variable = new_variable *2"
   ]
  },
  {
   "cell_type": "code",
   "execution_count": 6,
   "id": "63ab149f-050c-450f-90e0-6d57127b2924",
   "metadata": {},
   "outputs": [],
   "source": [
    "new_variable*=2\n",
    "new_variable+=1\n",
    "new_variable-=10"
   ]
  },
  {
   "cell_type": "markdown",
   "id": "d00a4648-6d66-4bb9-945c-c57579181ba3",
   "metadata": {},
   "source": [
    "### 4.1.2 Copies of Variables"
   ]
  },
  {
   "cell_type": "code",
   "execution_count": 7,
   "id": "478f4d90-447a-474d-9d3b-c961bfba2d41",
   "metadata": {},
   "outputs": [],
   "source": [
    "my_variable = 10"
   ]
  },
  {
   "cell_type": "code",
   "execution_count": 8,
   "id": "30bc6ccd-5a8d-41e3-913f-86831d8e08fc",
   "metadata": {},
   "outputs": [],
   "source": [
    "my_variable2 = my_variable"
   ]
  },
  {
   "cell_type": "code",
   "execution_count": 9,
   "id": "b5002efc-154f-46ce-b3de-38a2b85125c6",
   "metadata": {},
   "outputs": [
    {
     "name": "stdout",
     "output_type": "stream",
     "text": [
      "10 10\n"
     ]
    }
   ],
   "source": [
    "print(my_variable,my_variable2)"
   ]
  },
  {
   "cell_type": "code",
   "execution_count": 10,
   "id": "508500bd-282e-47aa-b411-9ddd858d6e5c",
   "metadata": {},
   "outputs": [],
   "source": [
    "my_variable=15"
   ]
  },
  {
   "cell_type": "code",
   "execution_count": 11,
   "id": "1b6a1c3f-7dd0-497d-a11d-73acc8c961ab",
   "metadata": {},
   "outputs": [
    {
     "name": "stdout",
     "output_type": "stream",
     "text": [
      "15 10\n"
     ]
    }
   ],
   "source": [
    "print(my_variable,my_variable2)"
   ]
  },
  {
   "cell_type": "code",
   "execution_count": 12,
   "id": "431dc062-9a80-4cd5-8913-5a0cd5b28916",
   "metadata": {},
   "outputs": [],
   "source": [
    "my_variable=[1,2,3]\n",
    "my_variable2 = my_variable"
   ]
  },
  {
   "cell_type": "code",
   "execution_count": 13,
   "id": "34e546ea-05e2-48a3-95b5-7744cede1b12",
   "metadata": {},
   "outputs": [
    {
     "name": "stdout",
     "output_type": "stream",
     "text": [
      "[1, 2, 3] [1, 2, 3]\n"
     ]
    }
   ],
   "source": [
    "print(my_variable,my_variable2)"
   ]
  },
  {
   "cell_type": "code",
   "execution_count": 14,
   "id": "8056d317-576a-4a58-a76f-c024eee02999",
   "metadata": {},
   "outputs": [
    {
     "name": "stdout",
     "output_type": "stream",
     "text": [
      "[1, 2, 10] [1, 2, 10]\n"
     ]
    }
   ],
   "source": [
    "my_variable[2] = 10\n",
    "print(my_variable,my_variable2)"
   ]
  },
  {
   "cell_type": "code",
   "execution_count": 15,
   "id": "e5397d61-cb90-486a-9d7b-10c7f47e3eea",
   "metadata": {},
   "outputs": [],
   "source": [
    "my_variable2=my_variable*1"
   ]
  },
  {
   "cell_type": "code",
   "execution_count": 16,
   "id": "215b1217-5247-47e5-8429-c498b275047d",
   "metadata": {},
   "outputs": [
    {
     "name": "stdout",
     "output_type": "stream",
     "text": [
      "[3, 2, 10] [1, 2, 10]\n"
     ]
    }
   ],
   "source": [
    "my_variable[0] = 3\n",
    "print(my_variable,my_variable2)"
   ]
  },
  {
   "cell_type": "code",
   "execution_count": 17,
   "id": "37b41a51-5944-4961-9d02-93712d1574f1",
   "metadata": {},
   "outputs": [],
   "source": [
    "import copy"
   ]
  },
  {
   "cell_type": "code",
   "execution_count": 18,
   "id": "7e6d6432-4194-4ad7-b115-a675b80f8d70",
   "metadata": {},
   "outputs": [],
   "source": [
    "my_variable2 = copy.deepcopy(my_variable)"
   ]
  },
  {
   "cell_type": "code",
   "execution_count": 19,
   "id": "7f63d752-d8d2-4b62-9460-afc52019ad39",
   "metadata": {},
   "outputs": [
    {
     "name": "stdout",
     "output_type": "stream",
     "text": [
      "[3, 5, 10] [3, 2, 10]\n"
     ]
    }
   ],
   "source": [
    "my_variable[1]=5\n",
    "print(my_variable,my_variable2)"
   ]
  },
  {
   "cell_type": "markdown",
   "id": "364cfebf-71ce-4ed7-a82c-489fb2136219",
   "metadata": {},
   "source": [
    "## 4.2 Importing Esternal Libraries"
   ]
  },
  {
   "cell_type": "code",
   "execution_count": 20,
   "id": "6d7401a8-0124-4dfb-b977-309ed5685293",
   "metadata": {},
   "outputs": [],
   "source": [
    "import numpy as np"
   ]
  },
  {
   "cell_type": "code",
   "execution_count": 21,
   "id": "fa1d62e2-760a-4532-91cd-4b31d3d9330c",
   "metadata": {},
   "outputs": [],
   "source": [
    "from copy import deepcopy"
   ]
  },
  {
   "cell_type": "code",
   "execution_count": 22,
   "id": "a29395d0-9f24-41ad-a90f-5a0b6069878e",
   "metadata": {},
   "outputs": [],
   "source": [
    "from numpy import *"
   ]
  },
  {
   "cell_type": "markdown",
   "id": "23575bf1-a1e1-470b-b381-41dce6cf67bb",
   "metadata": {},
   "source": [
    "## 4.3 Comments"
   ]
  },
  {
   "cell_type": "code",
   "execution_count": 23,
   "id": "03351289-87c8-4221-83f7-df046a75bca6",
   "metadata": {},
   "outputs": [],
   "source": [
    "\"\"\"\n",
    "Script Summary:\n",
    "This scrips defines some coonstants and carries out computations to determine\n",
    "the temperature of acloud of gas for a given temperature and density\n",
    "\"\"\"\n",
    "#define needed constants\n",
    "gamma = 5/3. #adiabtic index\n",
    "nH = 0.14 # 1/cm3\n",
    "T = 1e4 # Kelvin"
   ]
  },
  {
   "cell_type": "markdown",
   "id": "ea1e7730-2719-4414-b778-64b3627f5087",
   "metadata": {},
   "source": [
    "## 4.4 Data Types"
   ]
  },
  {
   "cell_type": "markdown",
   "id": "e65dae20-176c-4e4f-9299-c297ff92faae",
   "metadata": {},
   "source": [
    "### 4.4.1 Strings"
   ]
  },
  {
   "cell_type": "markdown",
   "id": "0314ed41-b99d-4c88-9d34-cf9d649e175b",
   "metadata": {},
   "source": [
    "#### 4.4.1.1 F-strings"
   ]
  },
  {
   "cell_type": "code",
   "execution_count": 24,
   "id": "0b88a75b-4105-487e-b21d-8db96f89b4ce",
   "metadata": {},
   "outputs": [
    {
     "name": "stdout",
     "output_type": "stream",
     "text": [
      "The Galaxy to be observed is: M31\n"
     ]
    }
   ],
   "source": [
    "name = 'M31'\n",
    "printout = f\"The Galaxy to be observed is: {name}\"\n",
    "print(printout)"
   ]
  },
  {
   "cell_type": "code",
   "execution_count": 25,
   "id": "8c091c30-8a47-487c-b52a-c5dd9aeb22b3",
   "metadata": {},
   "outputs": [
    {
     "name": "stdout",
     "output_type": "stream",
     "text": [
      "The Galaxy Luminosity is 781.4101246496252 solLum\n"
     ]
    }
   ],
   "source": [
    "import astropy.units as u\n",
    "import numpy as np\n",
    "galaxy_distance = 10 * u.Mpc\n",
    "galaxy_flux = 2.5e-16 * u.erg / u.s/ u.cm**2\n",
    "#Thus\n",
    "galaxy_luminosity = galaxy_flux * 4 * np.pi * galaxy_distance**2\n",
    "\n",
    "print(f'The Galaxy Luminosity is {galaxy_luminosity.to(u.Lsun)}')"
   ]
  },
  {
   "cell_type": "code",
   "execution_count": 26,
   "id": "93a62f0a-62a1-44f3-8f14-75f900b80851",
   "metadata": {},
   "outputs": [
    {
     "name": "stdout",
     "output_type": "stream",
     "text": [
      "The Galaxy Luminosity is 781.41 solLum\n"
     ]
    }
   ],
   "source": [
    "print(f'The Galaxy Luminosity is {galaxy_luminosity.to(u.Lsun):.2f}')"
   ]
  },
  {
   "cell_type": "markdown",
   "id": "4d88a5f6-4b03-4a37-8938-fee39d7e21ed",
   "metadata": {},
   "source": [
    "### 4.4.2 Collections of Data: Lists and Dictionaries"
   ]
  },
  {
   "cell_type": "code",
   "execution_count": 27,
   "id": "c28672c3-dc53-4c7f-a015-3dbf43e69300",
   "metadata": {},
   "outputs": [],
   "source": [
    "new_list = [1,2,3,4,5]"
   ]
  },
  {
   "cell_type": "code",
   "execution_count": 28,
   "id": "6bc38e56-4b68-447f-9d01-4ccab6914a1c",
   "metadata": {},
   "outputs": [],
   "source": [
    "new_list = [1.0,2.2,3.5,4.2,5.1]"
   ]
  },
  {
   "cell_type": "code",
   "execution_count": 29,
   "id": "46db8986-1093-47d5-8e8a-b98f585113c6",
   "metadata": {},
   "outputs": [],
   "source": [
    "new_list = [1.0,'hello',3.5,int(4),['another',' ','list']]"
   ]
  },
  {
   "cell_type": "code",
   "execution_count": 30,
   "id": "a66b036d-7954-4a6b-930d-214f94650ecb",
   "metadata": {},
   "outputs": [],
   "source": [
    "my_dict = {'key1':'value1',\n",
    "           'key2':10,\n",
    "           45:[1,2,3,4]}"
   ]
  },
  {
   "cell_type": "code",
   "execution_count": 31,
   "id": "3d063f29-e6e1-4845-bc80-56097fa55dbd",
   "metadata": {},
   "outputs": [
    {
     "name": "stdout",
     "output_type": "stream",
     "text": [
      "10\n"
     ]
    }
   ],
   "source": [
    "print(my_dict['key2'])"
   ]
  },
  {
   "cell_type": "markdown",
   "id": "c92a8673-7232-467f-96c4-d334556130d5",
   "metadata": {},
   "source": [
    "## 4.5 Indexing"
   ]
  },
  {
   "cell_type": "code",
   "execution_count": 32,
   "id": "a65360fe-88ff-4d99-a1de-c6293240c423",
   "metadata": {},
   "outputs": [
    {
     "data": {
      "text/plain": [
       "1.0"
      ]
     },
     "execution_count": 32,
     "metadata": {},
     "output_type": "execute_result"
    }
   ],
   "source": [
    "new_list[0]"
   ]
  },
  {
   "cell_type": "code",
   "execution_count": 33,
   "id": "1f36705f-d784-4dae-b436-37bf3d054651",
   "metadata": {},
   "outputs": [
    {
     "data": {
      "text/plain": [
       "'o'"
      ]
     },
     "execution_count": 33,
     "metadata": {},
     "output_type": "execute_result"
    }
   ],
   "source": [
    "new_list[1][4]"
   ]
  },
  {
   "cell_type": "code",
   "execution_count": 34,
   "id": "723d8f13-3543-4d46-b267-892944ff4d10",
   "metadata": {},
   "outputs": [
    {
     "name": "stdout",
     "output_type": "stream",
     "text": [
      "5\n"
     ]
    }
   ],
   "source": [
    "#x의 정의를 추가하여 책의 예문과 같은 답이 나오도록 하였습니다. -소정\n",
    "\n",
    "x=10503\n",
    "print(int(str(x)[2]))"
   ]
  },
  {
   "cell_type": "code",
   "execution_count": 35,
   "id": "4d53733b-3103-4752-aa27-ed8db6e30f38",
   "metadata": {},
   "outputs": [
    {
     "data": {
      "text/plain": [
       "'o'"
      ]
     },
     "execution_count": 35,
     "metadata": {},
     "output_type": "execute_result"
    }
   ],
   "source": [
    "new_list[1][-1]"
   ]
  },
  {
   "cell_type": "code",
   "execution_count": 36,
   "id": "416b9443-18bc-4a07-a5d9-abe13923acda",
   "metadata": {},
   "outputs": [
    {
     "data": {
      "text/plain": [
       "['key1', 'key2', 45]"
      ]
     },
     "execution_count": 36,
     "metadata": {},
     "output_type": "execute_result"
    }
   ],
   "source": [
    "list(my_dict.keys())"
   ]
  },
  {
   "cell_type": "code",
   "execution_count": 37,
   "id": "3e886494-24ba-4d9f-873b-9b072fe5fd43",
   "metadata": {},
   "outputs": [
    {
     "data": {
      "text/plain": [
       "['value1', 10, [1, 2, 3, 4]]"
      ]
     },
     "execution_count": 37,
     "metadata": {},
     "output_type": "execute_result"
    }
   ],
   "source": [
    "list(my_dict.values())"
   ]
  },
  {
   "cell_type": "markdown",
   "id": "92432667-4b03-4c6d-a45b-557583e5477c",
   "metadata": {},
   "source": [
    "## 4.6 Slicing"
   ]
  },
  {
   "cell_type": "code",
   "execution_count": 38,
   "id": "237bda0e-7426-4f81-a3ff-39093c1f064a",
   "metadata": {},
   "outputs": [
    {
     "data": {
      "text/plain": [
       "['hello', 3.5]"
      ]
     },
     "execution_count": 38,
     "metadata": {},
     "output_type": "execute_result"
    }
   ],
   "source": [
    "new_list[1:3]"
   ]
  },
  {
   "cell_type": "code",
   "execution_count": 39,
   "id": "3b77d33c-91a9-4987-85a4-db15bf74803e",
   "metadata": {},
   "outputs": [
    {
     "data": {
      "text/plain": [
       "['hello', 3.5, 4, ['another', ' ', 'list']]"
      ]
     },
     "execution_count": 39,
     "metadata": {},
     "output_type": "execute_result"
    }
   ],
   "source": [
    "new_list[1:]"
   ]
  },
  {
   "cell_type": "code",
   "execution_count": 40,
   "id": "324946b5-e6ff-4182-b0d0-d003d6aea621",
   "metadata": {},
   "outputs": [
    {
     "data": {
      "text/plain": [
       "[3.5, 4, ['another', ' ', 'list']]"
      ]
     },
     "execution_count": 40,
     "metadata": {},
     "output_type": "execute_result"
    }
   ],
   "source": [
    "new_list[-3:]"
   ]
  },
  {
   "cell_type": "code",
   "execution_count": 41,
   "id": "e551dedb-f23f-4782-b542-6a1da872c745",
   "metadata": {},
   "outputs": [
    {
     "data": {
      "text/plain": [
       "[1.0, 'hello']"
      ]
     },
     "execution_count": 41,
     "metadata": {},
     "output_type": "execute_result"
    }
   ],
   "source": [
    "new_list[:2]"
   ]
  },
  {
   "cell_type": "markdown",
   "id": "49672647-5195-4c45-ad3f-27ada5444895",
   "metadata": {},
   "source": [
    "## 4.7 Operations"
   ]
  },
  {
   "cell_type": "code",
   "execution_count": 42,
   "id": "2fef8ef9-b4cb-403c-8bc2-e965bfc6a73a",
   "metadata": {},
   "outputs": [
    {
     "data": {
      "text/plain": [
       "[1, 2, 3, 4, 5, 6]"
      ]
     },
     "execution_count": 42,
     "metadata": {},
     "output_type": "execute_result"
    }
   ],
   "source": [
    "[1,2,3] + [4,5,6]"
   ]
  },
  {
   "cell_type": "markdown",
   "id": "f2b79307-1ade-4f82-ad65-f49cf2c3715a",
   "metadata": {},
   "source": [
    "## 4.8 Reserved Words"
   ]
  },
  {
   "cell_type": "markdown",
   "id": "09f4ff1d-0622-4703-ab80-9b4acbd89046",
   "metadata": {},
   "source": [
    "## 4.9 Filtering and Masking"
   ]
  },
  {
   "cell_type": "code",
   "execution_count": 43,
   "id": "29481188-eafc-405c-b9f5-a3b0633cf3f0",
   "metadata": {},
   "outputs": [],
   "source": [
    "# starlist를 정의해서 에러가 뜨지 않도록 하였습니다. -소정\n",
    "\n",
    "starlist = np.array([10, 20, 30, 40, 5])\n",
    "\n",
    "subset = starlist[starlist<25]\n",
    "# not that the mast itself is just\n",
    "mask = starlist < 25"
   ]
  },
  {
   "cell_type": "code",
   "execution_count": 51,
   "id": "4e64eab8-93ac-4d22-9d6c-2682f2fb5fa4",
   "metadata": {},
   "outputs": [
    {
     "data": {
      "text/plain": [
       "array([ True,  True, False, False,  True])"
      ]
     },
     "execution_count": 51,
     "metadata": {},
     "output_type": "execute_result"
    }
   ],
   "source": [
    "mask"
   ]
  },
  {
   "cell_type": "markdown",
   "id": "85fc6f22-2411-4d58-b9fd-3790f109e32b",
   "metadata": {},
   "source": [
    "### 4.9.1 Multiple Conditions"
   ]
  },
  {
   "cell_type": "code",
   "execution_count": 53,
   "id": "ef8dcce1-19e2-447a-b661-9fb701c320b0",
   "metadata": {},
   "outputs": [],
   "source": [
    "subset = starlist[(starlist<25)&(starlist>20)]"
   ]
  },
  {
   "cell_type": "code",
   "execution_count": 54,
   "id": "73d66479-48c3-4f46-9e28-0424a4182967",
   "metadata": {},
   "outputs": [
    {
     "data": {
      "text/plain": [
       "array([], dtype=int64)"
      ]
     },
     "execution_count": 54,
     "metadata": {},
     "output_type": "execute_result"
    }
   ],
   "source": [
    "subset"
   ]
  },
  {
   "cell_type": "code",
   "execution_count": 45,
   "id": "61633247-7d01-4591-aec8-394a209b4a7b",
   "metadata": {},
   "outputs": [],
   "source": [
    "subset = starlist[(starlist>25)|(starlist<20)]"
   ]
  },
  {
   "cell_type": "code",
   "execution_count": 55,
   "id": "a3dfe0e2-d103-4743-bcf8-43fa7d153e04",
   "metadata": {},
   "outputs": [
    {
     "data": {
      "text/plain": [
       "array([], dtype=int64)"
      ]
     },
     "execution_count": 55,
     "metadata": {},
     "output_type": "execute_result"
    }
   ],
   "source": [
    "subset"
   ]
  },
  {
   "cell_type": "markdown",
   "id": "1e2561cc-6d23-456c-a521-fb828e9850f5",
   "metadata": {},
   "source": [
    "## 4.10 Conditional statements"
   ]
  },
  {
   "cell_type": "code",
   "execution_count": 46,
   "id": "459cabb5-2a7d-4e7c-8588-d7b5fe9ab2ad",
   "metadata": {},
   "outputs": [],
   "source": [
    "star_magnitude = 15.5"
   ]
  },
  {
   "cell_type": "code",
   "execution_count": 47,
   "id": "3e5042ce-e9f8-4794-9e03-a401dc5cf80d",
   "metadata": {},
   "outputs": [
    {
     "name": "stdout",
     "output_type": "stream",
     "text": [
      "Star is undectable by eye.\n"
     ]
    }
   ],
   "source": [
    "if star_magnitude >6.5:\n",
    "    print('Star is undectable by eye.')\n",
    "else:\n",
    "    print('Star is visible to human eye.')"
   ]
  },
  {
   "cell_type": "code",
   "execution_count": 48,
   "id": "ddaa2888-25be-4eef-9af6-259b3c975e9c",
   "metadata": {},
   "outputs": [],
   "source": [
    "star_magnitude = 4"
   ]
  },
  {
   "cell_type": "code",
   "execution_count": 49,
   "id": "ee30a3ad-78e2-4e5d-b342-0f703eabe435",
   "metadata": {},
   "outputs": [
    {
     "name": "stdout",
     "output_type": "stream",
     "text": [
      "Star is detectable by eye.\n",
      "Star detectable by ground telescope.\n",
      "Star detectable be space telescope.\n"
     ]
    }
   ],
   "source": [
    "if star_magnitude < 6.5:\n",
    "    print('Star is detectable by eye.')\n",
    "if star_magnitude<28:\n",
    "    print('Star detectable by ground telescope.')\n",
    "if star_magnitude<34:\n",
    "    print('Star detectable be space telescope.')\n",
    "else:\n",
    "    print('Star is undetectable by all.')"
   ]
  },
  {
   "cell_type": "code",
   "execution_count": 58,
   "id": "d2f145ac-053b-4685-a8df-0800e82b9663",
   "metadata": {},
   "outputs": [
    {
     "name": "stdout",
     "output_type": "stream",
     "text": [
      "do_next_thing\n"
     ]
    }
   ],
   "source": [
    "# condition들을 정의해서 에러가 뜨지 않도록 하였습니다. -소정\n",
    "\n",
    "condition1 = False\n",
    "condition2 = False\n",
    "condition3 = True\n",
    "\n",
    "if condition1:\n",
    "    print(\"do_something\")\n",
    "else:\n",
    "    if condition2:\n",
    "        print(\"do_something_else\")\n",
    "    else:\n",
    "        if condition3:\n",
    "            print(\"do_next_thing\")\n",
    "        else:\n",
    "            print(\"do_final_thing\")"
   ]
  },
  {
   "cell_type": "code",
   "execution_count": 59,
   "id": "49d721df-7906-4264-b885-e034d5ece1a3",
   "metadata": {},
   "outputs": [
    {
     "name": "stdout",
     "output_type": "stream",
     "text": [
      "do_next_thing\n"
     ]
    }
   ],
   "source": [
    "if condition1:\n",
    "    print(\"do_something\")\n",
    "elif condition2:\n",
    "    print(\"do_something_else\")\n",
    "elif condition3:\n",
    "    print(\"do_next_thing\")\n",
    "else:\n",
    "    print(\"do_final_thing\")"
   ]
  },
  {
   "cell_type": "markdown",
   "id": "3306da34-19c4-46b2-9443-d10dbdd4cdd7",
   "metadata": {},
   "source": [
    "### 4.10.1 Multiple Simultaneos Conditions"
   ]
  },
  {
   "cell_type": "code",
   "execution_count": 60,
   "id": "4420adf6-daba-4281-a819-9a1208b30fcd",
   "metadata": {},
   "outputs": [
    {
     "name": "stdout",
     "output_type": "stream",
     "text": [
      "-6.597643324038146\n"
     ]
    }
   ],
   "source": [
    "flux = 14\n",
    "flag = 1\n",
    "\n",
    "if (flux>10) and (flag==1):\n",
    "    calculation = -2.5 * np.log(flux)\n",
    "print(calculation)"
   ]
  },
  {
   "cell_type": "markdown",
   "id": "9811cb91-3e14-4cad-a48a-f5c878222681",
   "metadata": {},
   "source": [
    "### 4.10.2 Equality versus Identity"
   ]
  },
  {
   "cell_type": "code",
   "execution_count": 61,
   "id": "2a521bd5-3eca-44ad-a1b3-6378b8ba0960",
   "metadata": {},
   "outputs": [],
   "source": [
    "a = 1.0\n",
    "b = 1.0"
   ]
  },
  {
   "cell_type": "code",
   "execution_count": 62,
   "id": "bfbbfaa7-4049-4f71-b48e-f6fd20dd89e9",
   "metadata": {},
   "outputs": [
    {
     "data": {
      "text/plain": [
       "True"
      ]
     },
     "execution_count": 62,
     "metadata": {},
     "output_type": "execute_result"
    }
   ],
   "source": [
    "a == b"
   ]
  },
  {
   "cell_type": "code",
   "execution_count": 63,
   "id": "cf7fd557-dd7a-4bbe-bf11-97d2b6178fef",
   "metadata": {},
   "outputs": [
    {
     "data": {
      "text/plain": [
       "False"
      ]
     },
     "execution_count": 63,
     "metadata": {},
     "output_type": "execute_result"
    }
   ],
   "source": [
    "a is b"
   ]
  },
  {
   "cell_type": "markdown",
   "id": "b73f59ac-d932-4d01-a131-85616a08b9f2",
   "metadata": {},
   "source": [
    "## 4.11 Loop and Iterators"
   ]
  },
  {
   "cell_type": "markdown",
   "id": "f855f8e0-26cd-434b-b044-433bfc359476",
   "metadata": {},
   "source": [
    "### 4.11.1 For-Loops"
   ]
  },
  {
   "cell_type": "markdown",
   "id": "eeaf1f62-02b4-4a75-8a17-dd0fc05caa84",
   "metadata": {},
   "source": [
    "RA, DEC 등이 기재된 objects table이 필요함 \n",
    "\n",
    "- 추후 관련된 예제 테이블 확보 필요"
   ]
  },
  {
   "cell_type": "markdown",
   "id": "b3639f21-c11d-4f2f-8d35-dcae08d208d9",
   "metadata": {},
   "source": [
    "```python\n",
    "stars = []\n",
    "galaxies = []\n",
    "for i in names:\n",
    "    coords = SkyCoord.from_name(i).to_string('hmsdms')\n",
    "    output_string = 1 + '  ' + coords + ' ' + 'J2000.0'\n",
    "    if i.starswith('NGC') or i.starswith('UGC') or i.starswith('IC'):\n",
    "        galaxies.append(output_string)\n",
    "    else:\n",
    "        stars.append(output_string)\n",
    "```"
   ]
  },
  {
   "cell_type": "markdown",
   "id": "e75ccd6b-0008-425f-acbb-2bf419d229e3",
   "metadata": {},
   "source": [
    "Assume: names data <- **Numpy** array\n",
    "1. Iterate over each name in the list\n",
    "2. Retrieve its coordinates somehow\n",
    "3. IF it is a star, append to one list, otherwise append to another,\n",
    "4. Finally, write those two lists to new files."
   ]
  },
  {
   "cell_type": "markdown",
   "id": "18c97ca1-02a6-4dc7-8daa-a8f14974c336",
   "metadata": {},
   "source": [
    "### 4.11.2 While-Loops"
   ]
  },
  {
   "cell_type": "markdown",
   "id": "6cde171e-de02-44b2-b688-14b0a4662d47",
   "metadata": {},
   "source": [
    "### 4.11.3 Conttinuing Through and Breaking Out of Loops"
   ]
  },
  {
   "cell_type": "markdown",
   "id": "8dbe9553-741b-4c22-920d-d43d031e046b",
   "metadata": {},
   "source": [
    "```python\n",
    "for i in names:\n",
    "    if i.starswith('BD'):\n",
    "        break\n",
    "print(i)\n",
    "```"
   ]
  },
  {
   "cell_type": "markdown",
   "id": "26896a91-6f08-4420-8f97-89e73174dcb8",
   "metadata": {},
   "source": [
    "**(뜻 풀이)** for 문이 작동하다가 'BD'로 시작하는 이름이 있으면 멈춤"
   ]
  },
  {
   "cell_type": "markdown",
   "id": "31a0d116-e939-473f-85ce-306510f1993f",
   "metadata": {},
   "source": [
    "```python\n",
    "for i in names:\n",
    "    if i.starswith('SKIP'):\n",
    "        continue\n",
    "```"
   ]
  },
  {
   "cell_type": "markdown",
   "id": "794544ba-24b0-4b41-a24f-350586e94491",
   "metadata": {},
   "source": [
    "**(뜻 풀이)** for 문이 작동하다가 'SKIP'으로 시작하는 이름이 있으면 멈추지 말고 계속"
   ]
  },
  {
   "cell_type": "markdown",
   "id": "fd85492a-0fc3-4c5a-92d6-0958251d1252",
   "metadata": {},
   "source": [
    "### 4.11.4 Generators"
   ]
  },
  {
   "cell_type": "code",
   "execution_count": 68,
   "id": "f986832f-3225-45e5-b46e-4a0afdaf03e6",
   "metadata": {},
   "outputs": [
    {
     "name": "stdout",
     "output_type": "stream",
     "text": [
      "range(0, 5)\n",
      "[0 1 2 3 4]\n"
     ]
    }
   ],
   "source": [
    "print(range(5))\n",
    "print(np.arange(5))"
   ]
  },
  {
   "cell_type": "code",
   "execution_count": 69,
   "id": "1f73fff5-cc97-4140-a138-e675e500d73f",
   "metadata": {},
   "outputs": [
    {
     "name": "stdout",
     "output_type": "stream",
     "text": [
      "0\n",
      "1\n",
      "2\n",
      "0\n",
      "1\n",
      "2\n"
     ]
    }
   ],
   "source": [
    "for i in range(3):\n",
    "    print(i)\n",
    "for i in np.arange(3):\n",
    "    print(i)"
   ]
  },
  {
   "cell_type": "code",
   "execution_count": 70,
   "id": "7a0d55c3-8b33-46f2-879e-6d0f66724f69",
   "metadata": {},
   "outputs": [
    {
     "name": "stdout",
     "output_type": "stream",
     "text": [
      "0\n",
      "0\n"
     ]
    }
   ],
   "source": [
    "print(range(5)[0])\n",
    "print(np.arange(5)[0])"
   ]
  },
  {
   "cell_type": "markdown",
   "id": "5387739a-a6ad-4848-a7d9-74e5f460761d",
   "metadata": {},
   "source": [
    "## 4.12 Cancelling Code Executation"
   ]
  },
  {
   "cell_type": "markdown",
   "id": "852b873e-e6d7-48e5-b74e-a4cae41e9d43",
   "metadata": {},
   "source": [
    "## 4.13 Shell and Shell-like Commands in Python"
   ]
  },
  {
   "cell_type": "code",
   "execution_count": 72,
   "id": "e1a66806-4171-48e6-a2fd-78e5c6476c47",
   "metadata": {},
   "outputs": [
    {
     "data": {
      "text/plain": [
       "'D:\\\\Astronomical Python'"
      ]
     },
     "execution_count": 72,
     "metadata": {},
     "output_type": "execute_result"
    }
   ],
   "source": [
    "import os\n",
    "os.getcwd()"
   ]
  },
  {
   "cell_type": "code",
   "execution_count": 75,
   "id": "b7ac49e5-5d99-4457-a221-6dde309d0a34",
   "metadata": {
    "scrolled": true
   },
   "outputs": [
    {
     "data": {
      "text/plain": [
       "['catalogs', 'HST_JWST', 'TESS']"
      ]
     },
     "execution_count": 75,
     "metadata": {},
     "output_type": "execute_result"
    }
   ],
   "source": [
    "import os\n",
    "\n",
    "os.listdir('BookDatasets')"
   ]
  },
  {
   "cell_type": "code",
   "execution_count": 76,
   "id": "33d0c789-43cb-4655-94d6-1feab77fba5e",
   "metadata": {},
   "outputs": [
    {
     "data": {
      "text/plain": [
       "['Carlsten.txt',\n",
       " 'cosmos_3dhst.v4.1.5.linefit.linematched.fits',\n",
       " 'cosmos_3dhst.v4.1.5.zbest.dat',\n",
       " 'cosmos_3dhst.v4.1.5.zbest.fout',\n",
       " 'cosmos_3dhst.v4.1.5.zbest.sfr',\n",
       " 'cosmos_3dhst.v4.1.cat.FITS',\n",
       " 'cosmos_3dhst.v4.1.master.RF.FITS',\n",
       " 'relano2016_m33_phot.txt']"
      ]
     },
     "execution_count": 76,
     "metadata": {},
     "output_type": "execute_result"
    }
   ],
   "source": [
    "os.listdir('BookDatasets/catalogs')"
   ]
  },
  {
   "cell_type": "markdown",
   "id": "32a6abfa-8645-4e7b-a4e0-1d9835f78f58",
   "metadata": {},
   "source": [
    "```python\n",
    "filepath = 'home/data' + '/' + 'subdir/' + 'filename.extension'\n",
    "filepath\n",
    "```"
   ]
  },
  {
   "cell_type": "markdown",
   "id": "b4266832-f9ee-405d-bac6-bcbfd84d8230",
   "metadata": {},
   "source": [
    "```python\n",
    "\n",
    "# 경로 설정 예시\n",
    "basePath ='home/data'\n",
    "subdir = 'subdir_name'\n",
    "fname = 'filename.extension'\n",
    "filepath = basePath + subdir + fname\n",
    "filepath\n",
    "```"
   ]
  },
  {
   "cell_type": "code",
   "execution_count": 79,
   "id": "d92d6106-aa57-464d-8759-0ce5287f3ff6",
   "metadata": {},
   "outputs": [
    {
     "data": {
      "text/plain": [
       "'D:/Astronomical Python/BookDatasets/catalogs/Carlsten.txt'"
      ]
     },
     "execution_count": 79,
     "metadata": {},
     "output_type": "execute_result"
    }
   ],
   "source": [
    "basePath ='D:/Astronomical Python/'\n",
    "subdir = 'BookDatasets/catalogs/'\n",
    "fname = 'Carlsten.txt'\n",
    "filepath = basePath + subdir + fname\n",
    "filepath"
   ]
  },
  {
   "cell_type": "code",
   "execution_count": 80,
   "id": "260ab2af-84d8-4ea2-a90b-2eab19d060de",
   "metadata": {},
   "outputs": [
    {
     "data": {
      "text/plain": [
       "'D:/Astronomical Python/BookDatasets/catalogs/Carlsten.txt'"
      ]
     },
     "execution_count": 80,
     "metadata": {},
     "output_type": "execute_result"
    }
   ],
   "source": [
    "filepath = os.path.join(basePath,subdir,fname)\n",
    "filepath"
   ]
  },
  {
   "cell_type": "code",
   "execution_count": 81,
   "id": "f61b65d6-060c-44be-b9ca-a9075a463b8e",
   "metadata": {},
   "outputs": [
    {
     "data": {
      "text/plain": [
       "'D:/Astronomical Python/BookDatasets/catalogs/Carlsten.txt'"
      ]
     },
     "execution_count": 81,
     "metadata": {},
     "output_type": "execute_result"
    }
   ],
   "source": [
    "basePath ='D:/Astronomical Python/'\n",
    "subdir = 'BookDatasets/catalogs/'\n",
    "fname = 'Carlsten.txt'\n",
    "filepath = os.path.join(basePath,subdir,fname)\n",
    "filepath"
   ]
  },
  {
   "cell_type": "code",
   "execution_count": 82,
   "id": "f63ff564-3ddf-4674-85bd-19273dd4d959",
   "metadata": {},
   "outputs": [
    {
     "data": {
      "text/plain": [
       "True"
      ]
     },
     "execution_count": 82,
     "metadata": {},
     "output_type": "execute_result"
    }
   ],
   "source": [
    "os.path.exists(filepath)"
   ]
  },
  {
   "cell_type": "code",
   "execution_count": 83,
   "id": "fd491a47-f75a-48e4-a6ef-4be75b0a3310",
   "metadata": {},
   "outputs": [
    {
     "data": {
      "text/plain": [
       "('D:/Astronomical Python/BookDatasets/catalogs', 'Carlsten.txt')"
      ]
     },
     "execution_count": 83,
     "metadata": {},
     "output_type": "execute_result"
    }
   ],
   "source": [
    "os.path.split(filepath)"
   ]
  },
  {
   "cell_type": "markdown",
   "id": "48a77404-dc83-4f32-8a2b-adca98e95205",
   "metadata": {},
   "source": [
    "## 4.14 Interpreting Error Massages"
   ]
  },
  {
   "cell_type": "markdown",
   "id": "92f4935a-03a7-47af-ba2a-bc4a8f3d46c4",
   "metadata": {},
   "source": [
    "## 4.15 Handing Exceptions"
   ]
  },
  {
   "cell_type": "markdown",
   "id": "48b34d07-aebd-4178-8487-636b57df76b4",
   "metadata": {},
   "source": [
    "RA, DEC 등이 기재된 objects table이 필요함 \n",
    "\n",
    "- 추후 관련된 예제 테이블 확보 필요"
   ]
  },
  {
   "cell_type": "markdown",
   "id": "f4aca74f-04d6-40da-90fc-6c0c3b3d98ae",
   "metadata": {},
   "source": [
    "* names에 해당하는 예제 테이블 반영 시 실 코드로 변환"
   ]
  },
  {
   "cell_type": "markdown",
   "id": "79dce3fa-9c18-4861-afc6-198cc6f2877c",
   "metadata": {},
   "source": [
    "\n",
    "```python\n",
    "stars = []\n",
    "galaxies = []\n",
    "bad_names = []\n",
    "for i in names:\n",
    "    try:\n",
    "        coords = SkyCoord.from_name(i).to_string('hmsdms')\n",
    "    except:\n",
    "        # name must have been bad\n",
    "        bad_names.append(i)\n",
    "        continue\n",
    "\n",
    "    output_string = i + '  ' + coords + ' ' + 'J2000.0'\n",
    "    if i.starswith('NGC') or i.starswith('UGC') or i.starswith('IC'):\n",
    "        galaxies.append(i)\n",
    "    else:\n",
    "        stars.append(i)\n",
    "```"
   ]
  },
  {
   "cell_type": "markdown",
   "id": "0f209429-de7e-48ba-bd64-54129133c84c",
   "metadata": {},
   "source": [
    "\n",
    "```python\n",
    "SkyCoord.from_name('fake_galaxy')\n",
    "```\n"
   ]
  },
  {
   "cell_type": "markdown",
   "id": "429c7e15-c5b4-4178-958c-c3d35f0f816e",
   "metadata": {},
   "source": [
    "```python\n",
    "from astropy.coordinates.name_resolve import NameResolveError\n",
    "\n",
    "stars = []\n",
    "galaxies = []\n",
    "bad_names = []\n",
    "for i in names:\n",
    "    try:\n",
    "        coords = SkyCoord.from_name(i).to_string('hmsdms')\n",
    "    except NameResolveError:\n",
    "        # name must have been bad\n",
    "        bad_names.append(i)\n",
    "        continue\n",
    "\n",
    "    output_string = i + '  ' + coords + ' ' + 'J2000.0'\n",
    "    if i.starswith('NGC') or i.starswith('UGC') or i.starswith('IC'):\n",
    "        galaxies.append(i)\n",
    "    else:\n",
    "        stars.append(i)\n",
    "```"
   ]
  },
  {
   "cell_type": "markdown",
   "id": "7eb9f57f-cacd-4ebd-a23b-bff846d89b12",
   "metadata": {},
   "source": [
    "## 4.16 Summary"
   ]
  }
 ],
 "metadata": {
  "kernelspec": {
   "display_name": "Python 3 (ipykernel)",
   "language": "python",
   "name": "python3"
  },
  "language_info": {
   "codemirror_mode": {
    "name": "ipython",
    "version": 3
   },
   "file_extension": ".py",
   "mimetype": "text/x-python",
   "name": "python",
   "nbconvert_exporter": "python",
   "pygments_lexer": "ipython3",
   "version": "3.11.11"
  }
 },
 "nbformat": 4,
 "nbformat_minor": 5
}
