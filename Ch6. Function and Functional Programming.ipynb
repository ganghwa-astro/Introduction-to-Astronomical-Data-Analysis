{
 "cells": [
  {
   "cell_type": "markdown",
   "id": "4b4da360-22d8-417a-b609-bab0e4555bef",
   "metadata": {},
   "source": [
    "# 9. Functions and Functional Programming"
   ]
  },
  {
   "cell_type": "markdown",
   "id": "334d7fef-a5c7-4840-b566-b74e00c89745",
   "metadata": {},
   "source": [
    "## 9.1 Introduction"
   ]
  },
  {
   "cell_type": "code",
   "execution_count": 1,
   "id": "b860dedc-164c-46d8-97b3-84a90a8e21e7",
   "metadata": {},
   "outputs": [],
   "source": [
    "import numpy as np\n",
    "\n",
    "x = np.linspace(0.2*np.pi,100)\n",
    "mywave = np.sin(x)"
   ]
  },
  {
   "cell_type": "code",
   "execution_count": 2,
   "id": "a26121b7-aff0-414d-8be0-6bcaf5410c3d",
   "metadata": {},
   "outputs": [
    {
     "name": "stdout",
     "output_type": "stream",
     "text": [
      "Help on built-in function zeros in module numpy:\n",
      "\n",
      "zeros(...)\n",
      "    zeros(shape, dtype=float, order='C', *, like=None)\n",
      "    \n",
      "    Return a new array of given shape and type, filled with zeros.\n",
      "    \n",
      "    Parameters\n",
      "    ----------\n",
      "    shape : int or tuple of ints\n",
      "        Shape of the new array, e.g., ``(2, 3)`` or ``2``.\n",
      "    dtype : data-type, optional\n",
      "        The desired data-type for the array, e.g., `numpy.int8`.  Default is\n",
      "        `numpy.float64`.\n",
      "    order : {'C', 'F'}, optional, default: 'C'\n",
      "        Whether to store multi-dimensional data in row-major\n",
      "        (C-style) or column-major (Fortran-style) order in\n",
      "        memory.\n",
      "    like : array_like, optional\n",
      "        Reference object to allow the creation of arrays which are not\n",
      "        NumPy arrays. If an array-like passed in as ``like`` supports\n",
      "        the ``__array_function__`` protocol, the result will be defined\n",
      "        by it. In this case, it ensures the creation of an array object\n",
      "        compatible with that passed in via this argument.\n",
      "    \n",
      "        .. versionadded:: 1.20.0\n",
      "    \n",
      "    Returns\n",
      "    -------\n",
      "    out : ndarray\n",
      "        Array of zeros with the given shape, dtype, and order.\n",
      "    \n",
      "    See Also\n",
      "    --------\n",
      "    zeros_like : Return an array of zeros with shape and type of input.\n",
      "    empty : Return a new uninitialized array.\n",
      "    ones : Return a new array setting values to one.\n",
      "    full : Return a new array of given shape filled with value.\n",
      "    \n",
      "    Examples\n",
      "    --------\n",
      "    >>> import numpy as np\n",
      "    >>> np.zeros(5)\n",
      "    array([ 0.,  0.,  0.,  0.,  0.])\n",
      "    \n",
      "    >>> np.zeros((5,), dtype=int)\n",
      "    array([0, 0, 0, 0, 0])\n",
      "    \n",
      "    >>> np.zeros((2, 1))\n",
      "    array([[ 0.],\n",
      "           [ 0.]])\n",
      "    \n",
      "    >>> s = (2,2)\n",
      "    >>> np.zeros(s)\n",
      "    array([[ 0.,  0.],\n",
      "           [ 0.,  0.]])\n",
      "    \n",
      "    >>> np.zeros((2,), dtype=[('x', 'i4'), ('y', 'i4')]) # custom dtype\n",
      "    array([(0, 0), (0, 0)],\n",
      "          dtype=[('x', '<i4'), ('y', '<i4')])\n",
      "\n"
     ]
    }
   ],
   "source": [
    "help(np.zeros)"
   ]
  },
  {
   "cell_type": "markdown",
   "id": "bd516fec-039e-4db3-b07f-4b376d8018d1",
   "metadata": {},
   "source": [
    "## 9.2 Defining Functions"
   ]
  },
  {
   "cell_type": "code",
   "execution_count": 3,
   "id": "3ae6165b-16e2-4f2e-b50b-391ec1d01507",
   "metadata": {},
   "outputs": [],
   "source": [
    "def my_function():\n",
    "    pass"
   ]
  },
  {
   "cell_type": "code",
   "execution_count": 4,
   "id": "40af6f82-c039-4ef0-9913-27ca38562a0c",
   "metadata": {},
   "outputs": [],
   "source": [
    "def load_directory_images(path:str):\n",
    "    pass"
   ]
  },
  {
   "cell_type": "markdown",
   "id": "5be23e1c-cfc1-435f-9b21-f49cc0bb3215",
   "metadata": {},
   "source": [
    "## 9.3 Writing Documentation"
   ]
  },
  {
   "cell_type": "code",
   "execution_count": 5,
   "id": "1df1ac0c-c1ee-4bc9-90e3-cbe987cc01d5",
   "metadata": {},
   "outputs": [],
   "source": [
    "def load_directory_images(path):\n",
    "    '''\n",
    "    Loads a directory's worth of image into convenient storage units.\n",
    "    Requires astropy.io.fits.\n",
    "    '''\n",
    "    pass"
   ]
  },
  {
   "cell_type": "code",
   "execution_count": 6,
   "id": "57b21fec-92b1-4cc7-bed5-45bae6dfb9ff",
   "metadata": {},
   "outputs": [
    {
     "name": "stdout",
     "output_type": "stream",
     "text": [
      "Help on function load_directory_images in module __main__:\n",
      "\n",
      "load_directory_images(path)\n",
      "    Loads a directory's worth of image into convenient storage units.\n",
      "    Requires astropy.io.fits.\n",
      "\n"
     ]
    }
   ],
   "source": [
    "help(load_directory_images)"
   ]
  },
  {
   "cell_type": "markdown",
   "id": "65a51ef4-c409-41f4-9aaa-2a1659b3d611",
   "metadata": {},
   "source": [
    "### 9.3.1 Forming Your Documentation: Best Practices"
   ]
  },
  {
   "cell_type": "code",
   "execution_count": 7,
   "id": "de78dbed-26ef-4d81-a992-d5b04786c67a",
   "metadata": {},
   "outputs": [],
   "source": [
    "def load_directory_images(path):\n",
    "    '''\n",
    "    Loads a directory's worth of image into convenient storage units.\n",
    "    Requires astropy.io.fits.\n",
    "    Note: All Images in directory must be of same shape.\n",
    "\n",
    "    Parameters\n",
    "    ----------\n",
    "    path: str\n",
    "        path to the directory you wish to load, as a string.\n",
    "    Returns\n",
    "    ----------\n",
    "    image_stack: array_like\n",
    "        A stack of all images contained in the directory.\n",
    "        Array of shape (N,X,Y) where N is the number of images,\n",
    "        and X,Y are the dimensions of each image.\n",
    "    image_dict: dict\n",
    "        A dictionary containing headers for each image, the keys\n",
    "        are the same as the indices of the corresponding\n",
    "        image in the image_stack\n",
    "    '''\n",
    "    pass"
   ]
  },
  {
   "cell_type": "markdown",
   "id": "7f4f40d4-d90e-4595-bc17-2473defe5b6c",
   "metadata": {},
   "source": [
    "## 9.4 Checking Function Inputs"
   ]
  },
  {
   "cell_type": "code",
   "execution_count": 8,
   "id": "b2801b30-112a-4264-a163-868027a10ac6",
   "metadata": {},
   "outputs": [],
   "source": [
    "import os\n",
    "def load_directory_images(path):\n",
    "    '''\n",
    "    Loads a directory's worth of image into convenient storage units.\n",
    "    Requires astropy.io.fits.\n",
    "    Note: All Images in directory must be of same shape.\n",
    "\n",
    "    Parameters\n",
    "    ----------\n",
    "    path: str\n",
    "        path to the directory you wish to load, as a string.\n",
    "    Returns\n",
    "    ----------\n",
    "    image_stack: array_like\n",
    "        A stack of all images contained in the directory.\n",
    "        Array of shape (N,X,Y) where N is the number of images,\n",
    "        and X,Y are the dimensions of each image.\n",
    "    image_dict: dict\n",
    "        A dictionary containing headers for each image, the keys\n",
    "        are the same as the indices of the corresponding\n",
    "        image in the image_stack\n",
    "    '''\n",
    "    if not isinstance(path, str):\n",
    "        raise AssertionError('Path must be a string')\n",
    "    if os.path.isdir(path) is False:\n",
    "        raise OSError('Path does not point to a valid location.')\n",
    "    return"
   ]
  },
  {
   "cell_type": "markdown",
   "id": "c346699e-42ef-4e14-928a-c1dba7bbfe26",
   "metadata": {},
   "source": [
    "```python\n",
    "#에러 예문\n",
    "custom_path = 2\n",
    "load_directory_images(custom_path)\n",
    "```\n",
    "\n",
    "<img src = \"D:/Astronomical Python/Img/chap 9_1.png\" width=\"500\" height=\"400\"/>"
   ]
  },
  {
   "attachments": {},
   "cell_type": "markdown",
   "id": "64e8ebe1-b936-49af-b64c-8ee8da351c8c",
   "metadata": {},
   "source": [
    "```python\n",
    "#에러 예문\n",
    "custom_path = '~/FolderThatDoesntExist/other_folder/'\n",
    "load_directory_images(custom_path)\n",
    "```\n",
    "\n",
    "<img src = \"D:/Astronomical Python/Img/chap 9_2.png\" width=\"500\" height=\"400\"/>\n"
   ]
  },
  {
   "cell_type": "code",
   "execution_count": 9,
   "id": "c68751b1-58a9-49ae-9649-3458661f701b",
   "metadata": {},
   "outputs": [],
   "source": [
    "real_path = 'D:/Astronomical Python/BookDatasets'\n",
    "load_directory_images(real_path)"
   ]
  },
  {
   "cell_type": "markdown",
   "id": "ba9a4c1e-7954-423a-8da6-b1106c7397cc",
   "metadata": {},
   "source": [
    "## 9.5 Local Scope and Global Scope"
   ]
  },
  {
   "cell_type": "code",
   "execution_count": 10,
   "id": "7278519c-53bf-414e-98f9-a20ab58e17ab",
   "metadata": {},
   "outputs": [],
   "source": [
    "for i in range(10):\n",
    "    continue"
   ]
  },
  {
   "cell_type": "code",
   "execution_count": 11,
   "id": "3d55e2f4-ff84-4781-aa3e-c1cc25bb2297",
   "metadata": {},
   "outputs": [
    {
     "data": {
      "text/plain": [
       "9"
      ]
     },
     "execution_count": 11,
     "metadata": {},
     "output_type": "execute_result"
    }
   ],
   "source": [
    "i"
   ]
  },
  {
   "cell_type": "code",
   "execution_count": 12,
   "id": "3a3d6d11-41cf-478a-9a1f-bf0d302e2d52",
   "metadata": {},
   "outputs": [
    {
     "data": {
      "text/plain": [
       "11"
      ]
     },
     "execution_count": 12,
     "metadata": {},
     "output_type": "execute_result"
    }
   ],
   "source": [
    "a = 3\n",
    "b = 5\n",
    "def func(c,d):\n",
    "    return a+b+c+d\n",
    "\n",
    "func(1,2)"
   ]
  },
  {
   "cell_type": "markdown",
   "id": "12404a66-b240-41f3-bff0-e5e64dda1b47",
   "metadata": {},
   "source": [
    "```python\n",
    "#에러 예문\n",
    "func(1,2)\n",
    "```\n",
    "<img src = \"D:/Astronomical Python/Img/chap 9_3.png\" width=\"500\" height=\"400\"/>"
   ]
  },
  {
   "cell_type": "code",
   "execution_count": 13,
   "id": "8c6b5cd5-2e4a-4770-ad95-3a407a151c91",
   "metadata": {},
   "outputs": [],
   "source": [
    "a,b = 3,5\n",
    "def func(a,b,c,d):\n",
    "    return a+b+c+d"
   ]
  },
  {
   "cell_type": "code",
   "execution_count": 14,
   "id": "a063266d-f829-46b3-95cd-ecf93160461b",
   "metadata": {},
   "outputs": [
    {
     "data": {
      "text/plain": [
       "11"
      ]
     },
     "execution_count": 14,
     "metadata": {},
     "output_type": "execute_result"
    }
   ],
   "source": [
    "func(a,b,1,2)"
   ]
  },
  {
   "cell_type": "markdown",
   "id": "ee09808f-a9b9-4340-9796-b83b1f178df2",
   "metadata": {},
   "source": [
    "### 9.5.1 Debugging with Functions"
   ]
  },
  {
   "cell_type": "code",
   "execution_count": 15,
   "id": "d5753596-48fc-46a2-b619-5943cab9ae0b",
   "metadata": {},
   "outputs": [],
   "source": [
    "def my_func():\n",
    "    var = 1\n",
    "    var2 = 3\n",
    "    return var + var2"
   ]
  },
  {
   "attachments": {},
   "cell_type": "markdown",
   "id": "8fb27352-50b6-442b-8d10-6bc726ebb291",
   "metadata": {},
   "source": [
    "```python\n",
    "#에러 예문\n",
    "print(var)\n",
    "```\n",
    "\n",
    "<img src = \"D:/Astronomical Python/Img/chap 9_4.png\" width=\"500\" height=\"400\"/>"
   ]
  },
  {
   "cell_type": "code",
   "execution_count": 16,
   "id": "126fc3d4-d39b-46aa-b5d2-c87a139422b2",
   "metadata": {},
   "outputs": [],
   "source": [
    "def load_directory_images(path):\n",
    "    '''\n",
    "    Loads a directory's worth of image into convenient storage units.\n",
    "    Requires astropy.io.fits.\n",
    "    Note: All Images in directory must be of same shape.\n",
    "\n",
    "    Parameters\n",
    "    ----------\n",
    "    path: str\n",
    "        path to the directory you wish to load, as a string.\n",
    "    Returns\n",
    "    ----------\n",
    "    image_stack: array_like\n",
    "        A stack of all images contained in the directory.\n",
    "        Array of shape (N,X,Y) where N is the number of images,\n",
    "        and X,Y are the dimensions of each image.\n",
    "    image_dict: dict\n",
    "        A dictionary containing headers for each image, the keys\n",
    "        are the same as the indices of the corresponding\n",
    "        image in the image_stack\n",
    "    '''\n",
    "    if not isinstance(path, str):\n",
    "        raise AssertionError('Path must be a string')\n",
    "    if os.path.isdir(path) is False:\n",
    "        raise OSError('Path does not point to a valid location.')\n",
    "\n",
    "    files_in_dir = glob(path + '*')\n",
    "    image_stack = []\n",
    "    header_stack = {}\n",
    "    for i,f in enumerate(files_in_dir):\n",
    "        with fits.open(f) as HDU:\n",
    "            image_stack.append(HDU[0].data)\n",
    "            header_stack[i] = HDU[0].header\n",
    "        image_stack_result = np.array(image_stack)\n",
    "    return image_stack_result, header_stack"
   ]
  },
  {
   "cell_type": "markdown",
   "id": "e1b8e784-4de2-469d-af40-fd49022c5944",
   "metadata": {},
   "source": [
    "## 9.6 Chaining Functions Together"
   ]
  },
  {
   "cell_type": "code",
   "execution_count": 17,
   "id": "50b64737-ed91-4110-a1b0-a42b47c0ed90",
   "metadata": {},
   "outputs": [],
   "source": [
    "def median_image(image_stack):\n",
    "    '''\n",
    "    Taking a stack of image and returns the median image.\n",
    "    Parameters\n",
    "    ----------\n",
    "    image_stack: array_like\n",
    "        stack of images,first dimension being image index.\n",
    "    Returns\n",
    "    -------\n",
    "    median_image: array_like\n",
    "        single image of the median of the input images\n",
    "    '''\n",
    "    median_image = np.median(image_stack,axis=0)\n",
    "    return median_image"
   ]
  },
  {
   "cell_type": "markdown",
   "id": "ce07bd2e-456e-4e18-95a5-00698e4903e4",
   "metadata": {},
   "source": [
    "```python\n",
    "# image_path = '설정하고자 하는 경로를 입력'\n",
    "image_stack = load_directory_images(image_path)\n",
    "first_3 = median_image(image_stack[0:2])\n",
    "```"
   ]
  },
  {
   "cell_type": "markdown",
   "id": "0296dac7-5cb0-4d3f-883b-66db90466073",
   "metadata": {},
   "source": [
    "## 9.7 The Concept of Main()"
   ]
  },
  {
   "cell_type": "code",
   "execution_count": 18,
   "id": "26b08f98-f3f7-479a-b14f-b1e222224f96",
   "metadata": {},
   "outputs": [],
   "source": [
    "def main(image_dir,cleaning_keyword,alignment_keyword,coadd_keyword):\n",
    "    image_stack, header_stack = load_directory_images(image_dir)\n",
    "    cleaned_images = clean_images(image_stack,cleaning_keyword)\n",
    "    aligned_images = align_images(cleaned_images,alignment_keyword)\n",
    "    coadded_images = coadd_images(aligned_images,coadd_keyword)\n",
    "    return coadded_images"
   ]
  },
  {
   "cell_type": "markdown",
   "id": "ee1f2c18-d989-4974-9fce-791aff15c854",
   "metadata": {},
   "source": [
    "```python\n",
    "# below the main and other functions\n",
    "if __name__ == '__main__':\n",
    "    main(image_dir, cleaning_keyword, alignment_keyword, codded_keyword)\n",
    "```\n",
    "\n",
    "- 위 코드를 넣으면 스크립트가 직접 실행될 때만 main 함수가 실행 "
   ]
  },
  {
   "cell_type": "markdown",
   "id": "79150c4b-2dcd-4904-a81f-fa196c5aed19",
   "metadata": {},
   "source": [
    "## 9.8 Keyword (Optional) Arguments"
   ]
  },
  {
   "cell_type": "code",
   "execution_count": 19,
   "id": "2e248c5f-9e89-4b28-a1a2-cd926d43fc84",
   "metadata": {},
   "outputs": [],
   "source": [
    "def func(a,b,c,d):\n",
    "    return(a+b-c)*d"
   ]
  },
  {
   "cell_type": "code",
   "execution_count": 20,
   "id": "17005146-c343-4e78-8906-096cba1719ce",
   "metadata": {},
   "outputs": [],
   "source": [
    "def my_sin(x,units='radian'):\n",
    "    if units=='radian':\n",
    "        return np.sin(x)\n",
    "    elif units =='deg':\n",
    "        new_x = x * np.pi / 180.0\n",
    "        return np.sin(new_x)"
   ]
  },
  {
   "cell_type": "code",
   "execution_count": 21,
   "id": "0c44358f-89bb-4544-9437-66c1074a51ad",
   "metadata": {},
   "outputs": [
    {
     "data": {
      "text/plain": [
       "np.float64(1.2246467991473532e-16)"
      ]
     },
     "execution_count": 21,
     "metadata": {},
     "output_type": "execute_result"
    }
   ],
   "source": [
    "my_sin(np.pi)"
   ]
  },
  {
   "cell_type": "code",
   "execution_count": 22,
   "id": "dd727993-a63a-4845-84a1-b84d3ef6e221",
   "metadata": {},
   "outputs": [
    {
     "data": {
      "text/plain": [
       "np.float64(1.0)"
      ]
     },
     "execution_count": 22,
     "metadata": {},
     "output_type": "execute_result"
    }
   ],
   "source": [
    "my_sin(90,units='deg')"
   ]
  },
  {
   "cell_type": "markdown",
   "id": "546f5ef7-5402-4fa1-aa35-0c53f74f8ad8",
   "metadata": {},
   "source": [
    "\n",
    "```python\n",
    "# 위치 인자와 키워드 인자의 혼합 사용 에러 예시\n",
    "\n",
    "import matplotlib.pyplot as plt\n",
    "\n",
    "plt.plot(x, alpha=0.9, y, color='red', ms=5, ls='-', label='points')\n",
    "```\n",
    "\n",
    "<img src = \"D:/Astronomical Python/Img/chap 9_5.png\" width=\"600\" height=\"400\"/>"
   ]
  },
  {
   "cell_type": "code",
   "execution_count": 23,
   "id": "0dee54c5-30fc-498e-acba-ab0ecf8b6b37",
   "metadata": {},
   "outputs": [],
   "source": [
    "def func_args(x,y,z,a=1,b=25,c=None,d=False):\n",
    "    if d:\n",
    "        return x+y+z\n",
    "    elif c is not None:\n",
    "        print('wow!')\n",
    "    else:\n",
    "        return x+b"
   ]
  },
  {
   "cell_type": "code",
   "execution_count": 24,
   "id": "c85d2781-457f-42d1-85c0-e06e8b0c4854",
   "metadata": {},
   "outputs": [
    {
     "name": "stdout",
     "output_type": "stream",
     "text": [
      "wow!\n"
     ]
    }
   ],
   "source": [
    "func_args(1, 2, 3, c = 3)"
   ]
  },
  {
   "cell_type": "code",
   "execution_count": 25,
   "id": "7f2ddff9-dda6-464c-a698-1bbeb7f18516",
   "metadata": {},
   "outputs": [
    {
     "data": {
      "text/plain": [
       "6"
      ]
     },
     "execution_count": 25,
     "metadata": {},
     "output_type": "execute_result"
    }
   ],
   "source": [
    "func_args(1, 2, 3, d = True)"
   ]
  },
  {
   "cell_type": "code",
   "execution_count": 26,
   "id": "5f1713f9-67e3-49f6-b5b5-56f4262ae77c",
   "metadata": {},
   "outputs": [
    {
     "data": {
      "text/plain": [
       "26"
      ]
     },
     "execution_count": 26,
     "metadata": {},
     "output_type": "execute_result"
    }
   ],
   "source": [
    "func_args(1, 2, 3, d = False)"
   ]
  },
  {
   "cell_type": "markdown",
   "id": "e4603153-5b73-43f7-ba50-d67f446a6f4c",
   "metadata": {},
   "source": [
    "## 9.9 Packing and Unpacking Function Arguments"
   ]
  },
  {
   "cell_type": "code",
   "execution_count": 27,
   "id": "f8a3ef17-8933-43cb-88a9-fa1fa020cfd2",
   "metadata": {},
   "outputs": [],
   "source": [
    "def mysum(a,b,*args):\n",
    "    running_sum = a+b\n",
    "    for i in args:\n",
    "        running_sum+=i\n",
    "    return running_sum"
   ]
  },
  {
   "cell_type": "code",
   "execution_count": 28,
   "id": "fb041c24-6995-497f-8bcf-6b53f600434e",
   "metadata": {},
   "outputs": [
    {
     "data": {
      "text/plain": [
       "3"
      ]
     },
     "execution_count": 28,
     "metadata": {},
     "output_type": "execute_result"
    }
   ],
   "source": [
    "mysum(1,2)"
   ]
  },
  {
   "cell_type": "code",
   "execution_count": 29,
   "id": "5fdec48d-9b01-427e-ab88-d77b28434e79",
   "metadata": {},
   "outputs": [
    {
     "data": {
      "text/plain": [
       "21"
      ]
     },
     "execution_count": 29,
     "metadata": {},
     "output_type": "execute_result"
    }
   ],
   "source": [
    "mysum(1,2,3,4,5,6)"
   ]
  },
  {
   "cell_type": "code",
   "execution_count": 30,
   "id": "5b2213a0-5700-4cfe-b45e-a9a1b34c9dd6",
   "metadata": {},
   "outputs": [],
   "source": [
    "def mysum(a,b,*args):\n",
    "    return a+b+np.sum(args)"
   ]
  },
  {
   "cell_type": "code",
   "execution_count": 31,
   "id": "61c0bb73-5e01-413c-9086-cb3b3fc96dae",
   "metadata": {},
   "outputs": [],
   "source": [
    "def pretty_print(string,**kwargs):\n",
    "    print(string)"
   ]
  },
  {
   "cell_type": "code",
   "execution_count": 32,
   "id": "5b585e87-5114-4e7a-9cdf-93ee08889ea5",
   "metadata": {},
   "outputs": [
    {
     "name": "stdout",
     "output_type": "stream",
     "text": [
      "Hello, world!\n"
     ]
    }
   ],
   "source": [
    "pretty_print('Hello, world!',subtext='Ive had my morning coffee',energy_level=5)"
   ]
  },
  {
   "cell_type": "code",
   "execution_count": 33,
   "id": "3f4222aa-6ab2-4e4e-9f40-94096ae1a62f",
   "metadata": {},
   "outputs": [],
   "source": [
    "def pretty_print(string,**kwargs):\n",
    "    print(string)\n",
    "    if 'sep' in kwargs.keys():\n",
    "        print(kwargs['sep'])"
   ]
  },
  {
   "cell_type": "code",
   "execution_count": 34,
   "id": "84402784-ddf7-4c25-8a9a-e9e4d1cc0a4e",
   "metadata": {},
   "outputs": [
    {
     "name": "stdout",
     "output_type": "stream",
     "text": [
      "Hello, World!\n",
      "----------------\n"
     ]
    }
   ],
   "source": [
    "pretty_print('Hello, World!',sep='----------------')"
   ]
  },
  {
   "cell_type": "markdown",
   "id": "1d35c698-d74e-4ea7-a79f-2b39c5bbf8a3",
   "metadata": {},
   "source": [
    "## 9.10 Testing function Outputs: Unit Testing"
   ]
  },
  {
   "cell_type": "markdown",
   "id": "8361b267-b80f-4b5c-947b-54fc66163bfc",
   "metadata": {},
   "source": [
    "Simply create a file that starts with `test_` or ends in `_test.py` somewhere that you can access the functions of interest (say, in the same directory as your code-later we'll talk about how to put them in a separate tests directory). Assuming you've done this, inside your Python file for the test, you'll want to import `pytest` as well as your functions. "
   ]
  },
  {
   "cell_type": "markdown",
   "id": "e8f7bee8-4447-4ef2-8812-a5e176e9d26d",
   "metadata": {},
   "source": [
    "For example, If we had all the functions discussed in this chapter in one Python file called `utility_functions`, then in the first line of my `test_utilites.py` file I'd have where here I'm simply importing all the functions we would've defined. "
   ]
  },
  {
   "cell_type": "code",
   "execution_count": 35,
   "id": "df5b827a-d800-437d-a219-1a139a0e9c6a",
   "metadata": {},
   "outputs": [],
   "source": [
    "import pytest\n",
    "from utility_functions import *"
   ]
  },
  {
   "cell_type": "code",
   "execution_count": 36,
   "id": "baeadd99-5722-4a32-afa3-8f8c6812635a",
   "metadata": {},
   "outputs": [],
   "source": [
    "def test_load_images_from_directory(testing_path):\n",
    "    # testing_path = '/some_path_I_never_mess_with_to_some_test_fits_files/'\n",
    "    # testing_path = 'D:/Astronomical Python/BookDatasets/SUN_fits/'\n",
    "    image_stack, header_dict = load_directory_images(testing_path)\n",
    "    # I know that there are 7 sample images in that directory,\n",
    "    # of image dimensions 1200 by 2400\n",
    "    assert image_stack.shape == (100, 1104, 1608), \"Test failed: Image stack does not match the expected shape.\"\n",
    "    print(\"Test success: Image stack matches the expected shape.\")"
   ]
  },
  {
   "cell_type": "code",
   "execution_count": 37,
   "id": "f7fe0579-fb52-4206-b984-4ab66024ac78",
   "metadata": {},
   "outputs": [],
   "source": [
    "# permission denied 에러 확인 \n",
    "# import os \n",
    "# os.chmod('D:/Astronomical Python/BookDatasets/SUN_fits', 0o777)\n",
    "# from glob import glob\n",
    "# files_in_dir = glob('D:/Astronomical Python/BookDatasets/SUN_fits/*')\n",
    "# files_in_dir[0:3]"
   ]
  },
  {
   "cell_type": "code",
   "execution_count": 38,
   "id": "39d367be-a7bf-4d66-b10c-97c2d6469a1b",
   "metadata": {},
   "outputs": [
    {
     "name": "stdout",
     "output_type": "stream",
     "text": [
      "Test success: Image stack matches the expected shape.\n"
     ]
    }
   ],
   "source": [
    "test_load_images_from_directory('D:/Astronomical Python/BookDatasets/SUN_fits/')"
   ]
  },
  {
   "cell_type": "code",
   "execution_count": 39,
   "id": "6406687a-3fc6-4b81-aee4-0cfb32c25063",
   "metadata": {},
   "outputs": [],
   "source": [
    "image_stack_result, header_stack = load_directory_images('D:/Astronomical Python/BookDatasets/SUN_fits/')"
   ]
  },
  {
   "cell_type": "code",
   "execution_count": 40,
   "id": "4a035bb6-5395-4148-98fb-d4d1f88a8db7",
   "metadata": {},
   "outputs": [
    {
     "data": {
      "text/plain": [
       "(100, 1104, 1608)"
      ]
     },
     "execution_count": 40,
     "metadata": {},
     "output_type": "execute_result"
    }
   ],
   "source": [
    "image_stack_result.shape"
   ]
  },
  {
   "cell_type": "markdown",
   "id": "73681290-9106-41b1-90c0-d975ec0504bc",
   "metadata": {},
   "source": [
    "## 9.11 Type-Hinting"
   ]
  },
  {
   "cell_type": "code",
   "execution_count": 41,
   "id": "baed06d9-634c-4458-9134-846c15dba7b0",
   "metadata": {},
   "outputs": [],
   "source": [
    "import numpy as np\n",
    "\n",
    "def fit(x,y,order=1,n_pts=100):\n",
    "    fit = np.polyfit(x,y,order)\n",
    "    x_fit = np.linspace(x.min(),x.max(),n_pts)\n",
    "    y_fit = np.polyval(fit,x_fit)\n",
    "    return x_fit,y_fit"
   ]
  },
  {
   "cell_type": "code",
   "execution_count": 42,
   "id": "f9bb0953-d2bd-4c65-9c4e-ee27e6acdbc4",
   "metadata": {},
   "outputs": [],
   "source": [
    "def fit(x: np.array,\n",
    "        y: np.array,\n",
    "        order: int = 1,\n",
    "        n_pts: int =100)->tuple:\n",
    "    \"\"\"wrapper for polyfit that returns fit_line on a linspace over domain of input x\n",
    "\n",
    "    Parameters\n",
    "    ----------\n",
    "    x : np.array\n",
    "        x_values to fit\n",
    "    y : np.array\n",
    "        y_values to fit\n",
    "    order : int, optional\n",
    "        degree/order of the polynormal fit, by default 1\n",
    "    n_pts : int, optional\n",
    "        number of points between min(x) and max(x) to evaluate fit, by default 100\n",
    "\n",
    "    Returns\n",
    "    -------\n",
    "    tuple\n",
    "        x at which fit was evaluated, y, the evaluated fit\n",
    "    \"\"\"\n",
    "    fit = np.polyfit(x,y,order)\n",
    "    x_fit = np.linspace(x.min(),x.max(),n_pts)\n",
    "    y_fit = np.polyval(fit,x_fit)\n",
    "    return x_fit,y_fit"
   ]
  },
  {
   "cell_type": "code",
   "execution_count": 43,
   "id": "6f3d3adf-3135-4a11-aad1-d597ff9936be",
   "metadata": {},
   "outputs": [],
   "source": [
    "from typing import Union\n",
    "\n",
    "def fit(x: Union[list,np.array],\n",
    "        y: Union[list,np.array],\n",
    "        order: int = 1,\n",
    "        n_pts: int =100)->tuple:\n",
    "    fit = np.polyfit(x,y,order)\n",
    "    x_fit = np.linspace(np.min(x),np.max(x),n_pts)\n",
    "    y_fit = np.polyval(fit,x_fit)\n",
    "    return x_fit,y_fit"
   ]
  },
  {
   "cell_type": "code",
   "execution_count": 44,
   "id": "ee0ebc7e-7a07-4d2e-bebb-7a55f63a32ff",
   "metadata": {},
   "outputs": [],
   "source": [
    "from typing import Callable\n",
    "\n",
    "DataLike = Union[list,np.array]\n",
    "def func(in_func: Callable[[DataLike],str]):\n",
    "    pass"
   ]
  },
  {
   "cell_type": "markdown",
   "id": "3bec1051-9302-4430-844a-25e1c7e92bb9",
   "metadata": {},
   "source": [
    "## 9.12 Summary"
   ]
  }
 ],
 "metadata": {
  "kernelspec": {
   "display_name": "Python 3 (ipykernel)",
   "language": "python",
   "name": "python3"
  },
  "language_info": {
   "codemirror_mode": {
    "name": "ipython",
    "version": 3
   },
   "file_extension": ".py",
   "mimetype": "text/x-python",
   "name": "python",
   "nbconvert_exporter": "python",
   "pygments_lexer": "ipython3",
   "version": "3.11.11"
  }
 },
 "nbformat": 4,
 "nbformat_minor": 5
}
