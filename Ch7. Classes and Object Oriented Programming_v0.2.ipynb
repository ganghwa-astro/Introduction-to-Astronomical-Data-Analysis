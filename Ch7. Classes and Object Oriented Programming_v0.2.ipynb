{
 "cells": [
  {
   "cell_type": "markdown",
   "id": "f2993098-ff4c-4681-91ec-a3ca800be16a",
   "metadata": {},
   "source": [
    "# 10. Classes and Object Oriented Programming"
   ]
  },
  {
   "cell_type": "markdown",
   "id": "a4ee5e0c-9813-4aa5-a516-127754ff7766",
   "metadata": {},
   "source": [
    "## 10.1 Intropduction"
   ]
  },
  {
   "cell_type": "code",
   "execution_count": 1,
   "id": "2c324699-c90e-4ce4-925f-ba0b45758cca",
   "metadata": {},
   "outputs": [
    {
     "data": {
      "text/plain": [
       "array([5, 7, 9])"
      ]
     },
     "execution_count": 1,
     "metadata": {},
     "output_type": "execute_result"
    }
   ],
   "source": [
    "import numpy as np\n",
    "\n",
    "np.array([1,2,3]) + np.array([4,5,6])"
   ]
  },
  {
   "cell_type": "code",
   "execution_count": 2,
   "id": "8b959b98-8563-4e54-b48b-c8bc3c3b1c0c",
   "metadata": {},
   "outputs": [
    {
     "data": {
      "text/plain": [
       "[1, 2, 3, 4, 5, 6]"
      ]
     },
     "execution_count": 2,
     "metadata": {},
     "output_type": "execute_result"
    }
   ],
   "source": [
    "[1,2,3] + [4,5,6]"
   ]
  },
  {
   "cell_type": "markdown",
   "id": "676b7898-ecb6-4c0e-9f92-4f16606dfdfb",
   "metadata": {},
   "source": [
    "## 10.2 Definiting Classes"
   ]
  },
  {
   "cell_type": "code",
   "execution_count": 3,
   "id": "979426b3-97d7-4c09-bcf5-e04b3860f8b4",
   "metadata": {},
   "outputs": [],
   "source": [
    "from astropy.coordinates import SkyCoord\n",
    "\n",
    "class Target:\n",
    "    def __init__(self,\n",
    "                target_name:str,\n",
    "                target_coordinates:SkyCoord=None):\n",
    "        self.target_name = target_name\n",
    "        self.target_coordinates = target_coordinates\n",
    "    def some_method(self):\n",
    "        pass"
   ]
  },
  {
   "cell_type": "code",
   "execution_count": 4,
   "id": "254a38ae-28b4-498e-ba91-ba2fe3082aef",
   "metadata": {},
   "outputs": [],
   "source": [
    "m81 = Target('M81')"
   ]
  },
  {
   "cell_type": "code",
   "execution_count": 5,
   "id": "af375897-67c4-4c57-8682-82bda25c157a",
   "metadata": {},
   "outputs": [],
   "source": [
    "class Target:\n",
    "    def __init__(self,\n",
    "                target_name:str,\n",
    "                target_coordinates:SkyCoord=None):\n",
    "        self.target_name = target_name\n",
    "        self.target_coordinates = target_coordinates\n",
    "    def set_coordinates(self,coordinates):\n",
    "        setattr(self,'target_coordinates',coordinates)"
   ]
  },
  {
   "cell_type": "code",
   "execution_count": 6,
   "id": "e9985797-01a7-44d7-91d8-159b20e7e3e1",
   "metadata": {},
   "outputs": [
    {
     "name": "stdout",
     "output_type": "stream",
     "text": [
      "<SkyCoord (ICRS): (ra, dec) in deg\n",
      "    (148.8882194, 69.06529514)>\n"
     ]
    }
   ],
   "source": [
    "m81_coord = SkyCoord.from_name('M81')\n",
    "\n",
    "m81 = Target('M81')\n",
    "m81.set_coordinates(m81_coord)\n",
    "print(m81.target_coordinates)"
   ]
  },
  {
   "cell_type": "code",
   "execution_count": 7,
   "id": "b324bbd6-3cfd-4e95-b92a-1b82d879f416",
   "metadata": {},
   "outputs": [],
   "source": [
    "from astropy.coordinates.name_resolve import NameResolveError\n",
    "import warnings\n",
    "\n",
    "class Target:\n",
    "    def __init__(self,\n",
    "                 target_name:str):\n",
    "        self.target_name = target_name\n",
    "        try:\n",
    "            self.target_coordinates = SkyCoord.from_name(self.target_name)\n",
    "        except NameResolveError:\n",
    "            self.target_coordinates = None\n",
    "            warnings.warn('Coordinate could not be parsed from name; please set manually.')\n",
    "\n",
    "    def set_coordinates(self,coordinates):\n",
    "        setattr(self,'target_coordinates',coordinates)"
   ]
  },
  {
   "cell_type": "code",
   "execution_count": 8,
   "id": "48ec2a32-1b83-4da0-93a8-6bfefdbdf24b",
   "metadata": {},
   "outputs": [
    {
     "name": "stdout",
     "output_type": "stream",
     "text": [
      "<SkyCoord (ICRS): (ra, dec) in deg\n",
      "    (148.8882194, 69.06529514)>\n"
     ]
    }
   ],
   "source": [
    "m81 = Target('M81')\n",
    "print(m81.target_coordinates)"
   ]
  },
  {
   "cell_type": "code",
   "execution_count": 9,
   "id": "6d4c7d4d-cb1c-4bbd-ba30-c386e19fd4ff",
   "metadata": {},
   "outputs": [
    {
     "name": "stdout",
     "output_type": "stream",
     "text": [
      "None\n"
     ]
    },
    {
     "name": "stderr",
     "output_type": "stream",
     "text": [
      "C:\\Users\\jeffr\\AppData\\Local\\Temp\\ipykernel_23772\\3625892907.py:12: UserWarning: Coordinate could not be parsed from name; please set manually.\n",
      "  warnings.warn('Coordinate could not be parsed from name; please set manually.')\n"
     ]
    }
   ],
   "source": [
    "custom_galaxy = Target('N15738-J')\n",
    "print(custom_galaxy.target_coordinates)"
   ]
  },
  {
   "cell_type": "code",
   "execution_count": 10,
   "id": "d96a98bf-495e-4acb-98bd-b21c957643a9",
   "metadata": {},
   "outputs": [],
   "source": [
    "import astropy.units as u\n",
    "\n",
    "class Target:\n",
    "    def __init__(self,\n",
    "                 target_name:str):\n",
    "        self.target_name = target_name\n",
    "        try:\n",
    "            self.target_coordinates = SkyCoord.from_name(self.target_name)\n",
    "        except NameResolveError:\n",
    "            self.target_coordinates = None\n",
    "            warning.warn('Coordinates could not be parsed from name; please set manually.')\n",
    "\n",
    "    def set_coordinates(self,coordinates:SkyCoord):\n",
    "        setattr(self,'target_coordinates',coordinates)\n",
    "\n",
    "    def add_offset_star(self,coordinates:SkyCoord):\n",
    "        if not hasattr(self,'target_coordinates'):\n",
    "            raise AssertionError(\"Cannnot and offset star if target coordinates not defined.\")\n",
    "        offsets = coordinates.spherical_offsets_to(self.target_coordinates)\n",
    "        self.offsets = [i.to(u.arcsec) for i in offsets]"
   ]
  },
  {
   "cell_type": "code",
   "execution_count": 11,
   "id": "4fa02496-2e5d-4c6a-a4f1-fc4b394947c5",
   "metadata": {},
   "outputs": [
    {
     "name": "stdout",
     "output_type": "stream",
     "text": [
      "[<Angle 77.17760725 arcsec>, <Angle 44.47520482 arcsec>]\n"
     ]
    }
   ],
   "source": [
    "m81 = Target('M81')\n",
    "m81.add_offset_star(SkyCoord(ra=148.8282194, dec=69.0529514,unit='deg'))\n",
    "print(m81.offsets)"
   ]
  },
  {
   "cell_type": "markdown",
   "id": "945ddf4c-6c5a-4e14-88a8-59693ceef174",
   "metadata": {},
   "source": [
    "## 10.3 Setters and Getters"
   ]
  },
  {
   "cell_type": "code",
   "execution_count": 12,
   "id": "ce10312e-b043-4b95-ae7e-402d912c678d",
   "metadata": {},
   "outputs": [],
   "source": [
    "class Target:\n",
    "    def __init__(self,\n",
    "                 target_name:str):\n",
    "        self.target_name = target_name\n",
    "        try:\n",
    "            self.target_coordinates = SkyCoord.from_name(self.target_name)\n",
    "        except NameResolveError:\n",
    "            self.target_coordinates = None\n",
    "            warning.warn('Coordinates could not be parsed from name; please set manually.')\n",
    "\n",
    "    def set_coordinates(self,coordinates:SkyCoord):\n",
    "        setattr(self,'target_coordinates',coordinates)\n",
    "\n",
    "    def add_offset_star(self,coordinates:SkyCoord):\n",
    "        if not hasattr(self,'target_coordinates'):\n",
    "            raise AssertionError(\"Cannnot and offset star if target coordinates not defined.\")\n",
    "        offsets = coordinates.spherical_offsets_to(self.target_coordinates)\n",
    "        self._offsets = [i.to(u.arcsec) for i in offsets]\n",
    "    def get_offsets(self):\n",
    "        return self._offsets"
   ]
  },
  {
   "cell_type": "code",
   "execution_count": 13,
   "id": "f6544989-fabd-4893-9b2b-cebee1489dc0",
   "metadata": {},
   "outputs": [
    {
     "data": {
      "text/plain": [
       "[<Angle 77.17760725 arcsec>, <Angle 44.47520482 arcsec>]"
      ]
     },
     "execution_count": 13,
     "metadata": {},
     "output_type": "execute_result"
    }
   ],
   "source": [
    "m81 = Target('M81')\n",
    "m81.add_offset_star(SkyCoord(ra=148.8282194, dec=69.0529514,unit='deg'))\n",
    "m81.get_offsets()"
   ]
  },
  {
   "cell_type": "code",
   "execution_count": 14,
   "id": "708932cf-5740-4b9b-8f27-31e5bea92a7d",
   "metadata": {},
   "outputs": [],
   "source": [
    "class Target:\n",
    "    def __init__(self,\n",
    "                 target_name:str):\n",
    "        self.target_name = target_name\n",
    "        try:\n",
    "            self.target_coordinates = SkyCoord.from_name(self.target_name)\n",
    "        except NameResolveError:\n",
    "            self.target_coordinates = None\n",
    "            warning.warn('Coordinates could not be parsed from name; please set manually.')\n",
    "\n",
    "    def set_coordinates(self,coordinates:SkyCoord):\n",
    "        setattr(self,'target_coordinates',coordinates)\n",
    "\n",
    "    def add_offset_star(self,coordinates:SkyCoord):\n",
    "        if not hasattr(self,'target_coordinates'):\n",
    "            raise AssertionError(\"Cannnot and offset star if target coordinates not defined.\")\n",
    "        offsets = coordinates.spherical_offsets_to(self.target_coordinates)\n",
    "        self._offsets = [i.to(u.arcsec) for i in offsets]\n",
    "    def get_offsets(self):\n",
    "        return f\"\"\"{self._offsets[0].value:.1f}'' N, {self._offsets[1].value:.1f}'' E\"\"\""
   ]
  },
  {
   "cell_type": "code",
   "execution_count": 15,
   "id": "f54ffb49-78a2-4194-a4ce-4a010dba2111",
   "metadata": {},
   "outputs": [
    {
     "name": "stdout",
     "output_type": "stream",
     "text": [
      "77.2'' N, 44.5'' E\n"
     ]
    }
   ],
   "source": [
    "m81 = Target('M81')\n",
    "m81.add_offset_star(SkyCoord(ra=148.8282194, dec=69.0529514,unit='deg'))\n",
    "print(m81.get_offsets())"
   ]
  },
  {
   "cell_type": "code",
   "execution_count": 16,
   "id": "fec3a1e0-3f37-40a9-83b0-3502f7378952",
   "metadata": {},
   "outputs": [],
   "source": [
    "class Target:\n",
    "    def __init__(self,\n",
    "                 target_name:str):\n",
    "        self.target_name = target_name\n",
    "        try:\n",
    "            self.target_coordinates = SkyCoord.from_name(self.target_name)\n",
    "        except NameResolveError:\n",
    "            self.target_coordinates = None\n",
    "            warning.warn('Coordinates could not be parsed from name; please set manually.')\n",
    "\n",
    "    def set_coordinates(self,coordinates:SkyCoord):\n",
    "        setattr(self,'target_coordinates',coordinates)\n",
    "\n",
    "    def add_offset_star(self,coordinates:SkyCoord):\n",
    "        if not hasattr(self,'target_coordinates'):\n",
    "            raise AssertionError(\"Cannnot and offset star if target coordinates not defined.\")\n",
    "        offsets = coordinates.spherical_offsets_to(self.target_coordinates)\n",
    "        self._offsets = [i.to(u.arcsec) for i in offsets]\n",
    "    @property\n",
    "    def offsets(self):\n",
    "        return f\"\"\"{self._offsets[0].value:.1f}'' N, {self._offsets[1].value:.1f}'' E\"\"\""
   ]
  },
  {
   "cell_type": "code",
   "execution_count": 17,
   "id": "78f7136e-3bf7-42e1-bdfd-79f3cc96b910",
   "metadata": {},
   "outputs": [
    {
     "name": "stdout",
     "output_type": "stream",
     "text": [
      "77.2'' N, 44.5'' E\n"
     ]
    }
   ],
   "source": [
    "m81 = Target('M81')\n",
    "m81.add_offset_star(SkyCoord(ra=148.8282194, dec=69.0529514,unit='deg'))\n",
    "print(m81.offsets)"
   ]
  },
  {
   "cell_type": "markdown",
   "id": "f0fc62b6-d3fb-4fc6-9d0b-bd8417ec172e",
   "metadata": {},
   "source": [
    "## 10.4 Representation"
   ]
  },
  {
   "cell_type": "code",
   "execution_count": 18,
   "id": "8a2836b0-21cc-40a5-84f6-f928de92f984",
   "metadata": {},
   "outputs": [
    {
     "name": "stdout",
     "output_type": "stream",
     "text": [
      "<__main__.Target object at 0x000001BEBF4DE150>\n"
     ]
    }
   ],
   "source": [
    "print(m81)"
   ]
  },
  {
   "cell_type": "code",
   "execution_count": 19,
   "id": "2bd539c3-54c8-419d-babd-36fb094782d2",
   "metadata": {},
   "outputs": [
    {
     "name": "stdout",
     "output_type": "stream",
     "text": [
      "[0 1 2]\n"
     ]
    }
   ],
   "source": [
    "import numpy as np\n",
    "print(np.arange(3))"
   ]
  },
  {
   "cell_type": "code",
   "execution_count": 20,
   "id": "46178637-1a56-47b4-8d51-a99b11f45e88",
   "metadata": {},
   "outputs": [],
   "source": [
    "class Target:\n",
    "    def __init__(self,\n",
    "                 target_name:str):\n",
    "        self.target_name = target_name\n",
    "        try:\n",
    "            self.target_coordinates = SkyCoord.from_name(self.target_name)\n",
    "        except NameResolveError:\n",
    "            self.target_coordinates = None\n",
    "            warning.warn('Coordinates could not be parsed from name; please set manually.')\n",
    "\n",
    "    def set_coordinates(self,coordinates:SkyCoord):\n",
    "        setattr(self,'target_coordinates',coordinates)\n",
    "\n",
    "    def add_offset_star(self,coordinates:SkyCoord):\n",
    "        if not hasattr(self,'target_coordinates'):\n",
    "            raise AssertionError(\"Cannot add offset star if target coordinates not defined.\")\n",
    "        offsets = coordinates.spherical_offsets_to(self.target_coordinates)\n",
    "        self._offsets = [i.to(u.arcsec) for i in offsets]\n",
    "    @property\n",
    "    def offsets(self):\n",
    "\n",
    "        str_out = f\"\"\"{self._offsets[0].value:.1f}'' N, {self._offsets[1].value:.1f}'' E\"\"\"\n",
    "        return str_out\n",
    "\n",
    "    def __repr__(self):\n",
    "        outstr = f'Target object for {self.target_name} with coordinates {self.target_coordinates.to_string()}'\n",
    "        return outstr"
   ]
  },
  {
   "cell_type": "code",
   "execution_count": 21,
   "id": "d9a86b56-e21e-4730-905d-ea92f95e2054",
   "metadata": {},
   "outputs": [
    {
     "name": "stdout",
     "output_type": "stream",
     "text": [
      "Target object for M81 with coordinates 148.888 69.0653\n"
     ]
    }
   ],
   "source": [
    "m81 = Target('M81')\n",
    "print(m81)"
   ]
  },
  {
   "cell_type": "markdown",
   "id": "ef261fdc-5da4-4013-8ea1-f5efc4a5082d",
   "metadata": {},
   "source": [
    "## 10.5 Subclasses (and Superclasses)"
   ]
  },
  {
   "cell_type": "code",
   "execution_count": 22,
   "id": "a4e9639b-cb9b-438c-875f-cd1cc871d1a2",
   "metadata": {},
   "outputs": [],
   "source": [
    "class ImagingTarget(Target):\n",
    "    def __init__(self,target_name:str):\n",
    "        super().__init__(target_name)\n",
    "    def add_filter(self,filtname:str):\n",
    "        self._filtname=filtname\n",
    "\n",
    "class SpectroscopyTarget(Target):\n",
    "    def __init__(self,target_name:str):\n",
    "        super().__init__(target_name)\n",
    "    def add_slit__params(self,\n",
    "                         slit_length:float,\n",
    "                         slit_width:float,\n",
    "                         slit_PA: float):\n",
    "        self._slit_length = slit_length\n",
    "        self._slit_width = slit_width\n",
    "        self._slit_PA = slit_PA"
   ]
  },
  {
   "cell_type": "code",
   "execution_count": 23,
   "id": "c585548b-5d43-446c-8787-bca40006a45b",
   "metadata": {},
   "outputs": [
    {
     "name": "stdout",
     "output_type": "stream",
     "text": [
      "77.2'' N, 44.5'' E\n"
     ]
    }
   ],
   "source": [
    "m81_im = ImagingTarget('M81')\n",
    "m81_im.add_offset_star(SkyCoord(ra=148.8282194, dec=69.0529514,unit='deg'))\n",
    "print(m81_im.offsets)"
   ]
  },
  {
   "cell_type": "code",
   "execution_count": 24,
   "id": "471bfea2-dd57-4714-a5f3-a7a86ea0a9f9",
   "metadata": {},
   "outputs": [],
   "source": [
    "m81_im.add_filter('G')"
   ]
  },
  {
   "cell_type": "code",
   "execution_count": 25,
   "id": "af156a9f-bcb7-49fc-8075-5453cfc15bc9",
   "metadata": {},
   "outputs": [],
   "source": [
    "class lrisTarget(SpectroscopyTarget):\n",
    "    def __init__(self,target_name:str):\n",
    "        super().__init__(target_name)\n",
    "        self.dichroic_list = ['D460','D500','D560','D680']\n",
    "    def set_dichroic(self,dichroic:str):\n",
    "        if dichroic not in self.dichroic_list:\n",
    "            raise AssertionError(f'dichroic not in list. Choose from {self.dichroic_list}')\n",
    "        else:\n",
    "            self.dichroic=dichroic"
   ]
  },
  {
   "cell_type": "markdown",
   "id": "3063c5bd-6679-46a4-886b-1f783b0244a9",
   "metadata": {},
   "source": [
    "## 10.6 Static Method"
   ]
  },
  {
   "cell_type": "code",
   "execution_count": 26,
   "id": "351647dd-2163-41be-8eb4-54f438f7d36e",
   "metadata": {},
   "outputs": [],
   "source": [
    "class Target:\n",
    "    def __init__(self,\n",
    "                 target_name:str):\n",
    "        self.target_name = target_name\n",
    "        try:\n",
    "            self.target_coordinates = SkyCoord.from_name(self.target_name)\n",
    "        except NameResolveError:\n",
    "            self.target_coordinates = None\n",
    "            warning.warn('Coordinates could not be parsed from name; please set manually.')\n",
    "\n",
    "    @staticmethod\n",
    "    def compute_offsets(coordinate_1,coordinate_2):\n",
    "        offsets = coordinate_1.spherical_offsets_to(coordinate_2)\n",
    "        offsets = [i.to(u.arcsec) for i in offsets]\n",
    "        return offsets\n",
    "        \n",
    "    def set_coordinates(self,coordinates:SkyCoord):\n",
    "        setattr(self,'target_coordinates',coordinates)\n",
    "\n",
    "    def add_offset_star(self,coordinates:SkyCoord):\n",
    "        if not hasattr(self,'target_coordinates'):\n",
    "            raise AssertionError(\"Cannot add offset star if target coordinates not defined.\")\n",
    "        self._offsets = self.compute_offsets(coordinates,self.target_coordinates)\n",
    "    @property\n",
    "    def offsets(self):\n",
    "        str_out = f\"\"\"{self._offsets[0].value:.1f}'' N, {self._offsets[1].value:.1f}'' E\"\"\"\n",
    "        return str_out"
   ]
  },
  {
   "cell_type": "code",
   "execution_count": 27,
   "id": "89f86891-dcea-45e7-ab3e-ae2a4d38a3af",
   "metadata": {},
   "outputs": [
    {
     "name": "stdout",
     "output_type": "stream",
     "text": [
      "77.2'' N, 44.5'' E\n"
     ]
    }
   ],
   "source": [
    "m81 = Target('M81')\n",
    "m81.add_offset_star(SkyCoord(ra=148.8282194, dec=69.0529514,unit='deg'))\n",
    "print(m81.offsets)"
   ]
  },
  {
   "cell_type": "code",
   "execution_count": 28,
   "id": "20737511-8007-4d5f-bcc7-f435274c29ce",
   "metadata": {},
   "outputs": [
    {
     "name": "stdout",
     "output_type": "stream",
     "text": [
      "[<Angle 4.86577537 arcsec>, <Angle -1.21809008 arcsec>]\n"
     ]
    }
   ],
   "source": [
    "c1 = SkyCoord(ra=148.8282194, dec=69.0529514,unit='deg')\n",
    "c2 = SkyCoord(ra=148.832, dec=69.052613,unit='deg')\n",
    "print(Target.compute_offsets(c1,c2))"
   ]
  },
  {
   "cell_type": "markdown",
   "id": "229e6ac6-790e-4c4b-aa9e-e6e4bfb6f7fb",
   "metadata": {},
   "source": [
    "## 10.7 Abstract Base Classes"
   ]
  },
  {
   "cell_type": "code",
   "execution_count": 29,
   "id": "1264c688-5578-4f25-afae-a9b48305a425",
   "metadata": {},
   "outputs": [],
   "source": [
    "from abc import ABC,abstractmethod\n",
    "\n",
    "class BaseSpectroscoph(ABC):\n",
    "    def __init__(self,name):\n",
    "        self.name = name\n",
    "\n",
    "    @abstractmethod\n",
    "    def get_detector_ndims(self):\n",
    "        pass\n",
    "    def get_dichroic_list(self):\n",
    "        pass"
   ]
  },
  {
   "cell_type": "markdown",
   "id": "2f9cc5d7-1e48-4b55-8bd2-726604a57400",
   "metadata": {},
   "source": [
    "```python\n",
    "#에러 예문\n",
    "class LRIS(BaseSpectroscoph):\n",
    "    def __init__(self,name):\n",
    "        super().__init__(name)\n",
    "\n",
    "spectrograph = LRIS('lris')\n",
    "```\n",
    "<img src = \"D:/Astronomical Python/Img/chap 10_1.png\" width=\"800\" height=\"500\"/>"
   ]
  },
  {
   "cell_type": "code",
   "execution_count": 31,
   "id": "a3c76e98-eae5-49f2-bd0a-d9a52df2a8a2",
   "metadata": {},
   "outputs": [],
   "source": [
    "class LRIS(BaseSpectroscoph):\n",
    "    def __init__(self,name):\n",
    "        super().__init__(name)\n",
    "    def get_detector_ndims(self):\n",
    "        return (2,4000,4000)\n",
    "    def get_dichroic_list(self):\n",
    "        return ['D460','D500','D560','D680']\n",
    "\n",
    "\n",
    "spectrograph = LRIS('lris')"
   ]
  },
  {
   "cell_type": "markdown",
   "id": "85c45c27-116e-480c-bb3b-c720dd4e9728",
   "metadata": {},
   "source": [
    "## 10.8 Summary"
   ]
  }
 ],
 "metadata": {
  "kernelspec": {
   "display_name": "Python 3 (ipykernel)",
   "language": "python",
   "name": "python3"
  },
  "language_info": {
   "codemirror_mode": {
    "name": "ipython",
    "version": 3
   },
   "file_extension": ".py",
   "mimetype": "text/x-python",
   "name": "python",
   "nbconvert_exporter": "python",
   "pygments_lexer": "ipython3",
   "version": "3.11.11"
  }
 },
 "nbformat": 4,
 "nbformat_minor": 5
}
